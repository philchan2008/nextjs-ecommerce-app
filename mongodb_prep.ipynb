{
 "cells": [
  {
   "cell_type": "code",
   "execution_count": 32,
   "id": "896ee42a",
   "metadata": {},
   "outputs": [
    {
     "name": "stdout",
     "output_type": "stream",
     "text": [
      "Requirement already satisfied: pymongo in w:\\playground\\nextjs\\nextjs-ecommerce-app\\.venv\\lib\\site-packages (4.15.0)\n",
      "Requirement already satisfied: dnspython<3.0.0,>=1.16.0 in w:\\playground\\nextjs\\nextjs-ecommerce-app\\.venv\\lib\\site-packages (from pymongo) (2.8.0)\n",
      "Requirement already satisfied: python-dotenv in w:\\playground\\nextjs\\nextjs-ecommerce-app\\.venv\\lib\\site-packages (1.1.1)\n"
     ]
    }
   ],
   "source": [
    "!pip install pymongo\n",
    "!pip install python-dotenv"
   ]
  },
  {
   "cell_type": "code",
   "execution_count": 33,
   "id": "b5c36d30",
   "metadata": {},
   "outputs": [],
   "source": [
    "from pymongo import MongoClient\n",
    "\n",
    "import os\n",
    "from dotenv import load_dotenv \n",
    "\n",
    "load_dotenv()\n",
    "\n",
    "db_uri = os.getenv(\"DB_URI\")\n",
    "\n",
    "client = MongoClient(db_uri)  # or your Atlas URI\n",
    "db = client[\"demo\"]\n",
    "collection = db[\"products\"]\n"
   ]
  },
  {
   "cell_type": "code",
   "execution_count": 21,
   "id": "92fe5d07",
   "metadata": {},
   "outputs": [],
   "source": [
    "# collection.delete_many({})"
   ]
  },
  {
   "cell_type": "code",
   "execution_count": 36,
   "id": "821636a9",
   "metadata": {
    "vscode": {
     "languageId": "javascript"
    }
   },
   "outputs": [],
   "source": [
    "collection = db[\"carts\"]\n",
    "\n"
   ]
  },
  {
   "cell_type": "code",
   "execution_count": 37,
   "id": "944ae53c",
   "metadata": {
    "vscode": {
     "languageId": "javascript"
    }
   },
   "outputs": [
    {
     "data": {
      "text/plain": [
       "Collection(Database(MongoClient(host=['ac-ch1hr8l-shard-00-00.cwt06st.mongodb.net:27017', 'ac-ch1hr8l-shard-00-01.cwt06st.mongodb.net:27017', 'ac-ch1hr8l-shard-00-02.cwt06st.mongodb.net:27017'], document_class=dict, tz_aware=False, connect=True, retrywrites=True, w='majority', appname='pipc1', authsource='admin', replicaset='atlas-90jfe8-shard-0', tls=True), 'demo'), 'carts.carts')"
      ]
     },
     "execution_count": 37,
     "metadata": {},
     "output_type": "execute_result"
    }
   ],
   "source": [
    "collection['carts']"
   ]
  },
  {
   "cell_type": "code",
   "execution_count": 31,
   "id": "95f3c027",
   "metadata": {
    "vscode": {
     "languageId": "javascript"
    }
   },
   "outputs": [
    {
     "ename": "InvalidDocument",
     "evalue": "Invalid document {'find': 'products', 'filter': {<built-in function id>: '123'}, 'lsid': {'id': Binary(b'b\\x90\\x96\\x8d\\xf3\\xd1JY\\x89.\\xbf\\xd9\\x13\\xf2U\\x13', 4)}, '$clusterTime': {'clusterTime': Timestamp(1757918704, 9), 'signature': {'hash': b'\\x85;\\xe9&\\xc2\\xd2\\xed;ME\\xa9G\\xa7\\xbc9c\\x89\\x08kQ', 'keyId': 7486577435190755331}}, '$db': 'demo'} | documents must have only string keys, key was <built-in function id>",
     "output_type": "error",
     "traceback": [
      "\u001b[31m---------------------------------------------------------------------------\u001b[39m",
      "\u001b[31mInvalidDocument\u001b[39m                           Traceback (most recent call last)",
      "\u001b[36mCell\u001b[39m\u001b[36m \u001b[39m\u001b[32mIn[31]\u001b[39m\u001b[32m, line 2\u001b[39m\n\u001b[32m      1\u001b[39m \u001b[38;5;66;03m# [x for x in collection.find({ id: '123' })]\u001b[39;00m\n\u001b[32m----> \u001b[39m\u001b[32m2\u001b[39m \u001b[43m[\u001b[49m\u001b[43m \u001b[49m\u001b[43mx\u001b[49m\u001b[43m \u001b[49m\u001b[38;5;28;43;01mfor\u001b[39;49;00m\u001b[43m \u001b[49m\u001b[43mx\u001b[49m\u001b[43m \u001b[49m\u001b[38;5;129;43;01min\u001b[39;49;00m\u001b[43m \u001b[49m\u001b[43mcollection\u001b[49m\u001b[43m.\u001b[49m\u001b[43mfind\u001b[49m\u001b[43m(\u001b[49m\u001b[43m{\u001b[49m\u001b[38;5;28;43mid\u001b[39;49m\u001b[43m:\u001b[49m\u001b[43m \u001b[49m\u001b[33;43m'\u001b[39;49m\u001b[33;43m123\u001b[39;49m\u001b[33;43m'\u001b[39;49m\u001b[43m}\u001b[49m\u001b[43m)\u001b[49m\u001b[43m \u001b[49m\u001b[43m]\u001b[49m\n",
      "\u001b[36mFile \u001b[39m\u001b[32mw:\\Playground\\nextjs\\nextjs-ecommerce-app\\.venv\\Lib\\site-packages\\pymongo\\synchronous\\cursor.py:1289\u001b[39m, in \u001b[36mCursor.__next__\u001b[39m\u001b[34m(self)\u001b[39m\n\u001b[32m   1288\u001b[39m \u001b[38;5;28;01mdef\u001b[39;00m\u001b[38;5;250m \u001b[39m\u001b[34m__next__\u001b[39m(\u001b[38;5;28mself\u001b[39m) -> _DocumentType:\n\u001b[32m-> \u001b[39m\u001b[32m1289\u001b[39m     \u001b[38;5;28;01mreturn\u001b[39;00m \u001b[38;5;28;43mself\u001b[39;49m\u001b[43m.\u001b[49m\u001b[43mnext\u001b[49m\u001b[43m(\u001b[49m\u001b[43m)\u001b[49m\n",
      "\u001b[36mFile \u001b[39m\u001b[32mw:\\Playground\\nextjs\\nextjs-ecommerce-app\\.venv\\Lib\\site-packages\\pymongo\\synchronous\\cursor.py:1265\u001b[39m, in \u001b[36mCursor.next\u001b[39m\u001b[34m(self)\u001b[39m\n\u001b[32m   1263\u001b[39m \u001b[38;5;28;01mif\u001b[39;00m \u001b[38;5;28mself\u001b[39m._empty:\n\u001b[32m   1264\u001b[39m     \u001b[38;5;28;01mraise\u001b[39;00m \u001b[38;5;167;01mStopIteration\u001b[39;00m\n\u001b[32m-> \u001b[39m\u001b[32m1265\u001b[39m \u001b[38;5;28;01mif\u001b[39;00m \u001b[38;5;28mlen\u001b[39m(\u001b[38;5;28mself\u001b[39m._data) \u001b[38;5;129;01mor\u001b[39;00m \u001b[38;5;28;43mself\u001b[39;49m\u001b[43m.\u001b[49m\u001b[43m_refresh\u001b[49m\u001b[43m(\u001b[49m\u001b[43m)\u001b[49m:\n\u001b[32m   1266\u001b[39m     \u001b[38;5;28;01mreturn\u001b[39;00m \u001b[38;5;28mself\u001b[39m._data.popleft()\n\u001b[32m   1267\u001b[39m \u001b[38;5;28;01melse\u001b[39;00m:\n",
      "\u001b[36mFile \u001b[39m\u001b[32mw:\\Playground\\nextjs\\nextjs-ecommerce-app\\.venv\\Lib\\site-packages\\pymongo\\synchronous\\cursor.py:1213\u001b[39m, in \u001b[36mCursor._refresh\u001b[39m\u001b[34m(self)\u001b[39m\n\u001b[32m   1191\u001b[39m         \u001b[38;5;28;01mraise\u001b[39;00m InvalidOperation(\n\u001b[32m   1192\u001b[39m             \u001b[33m\"\u001b[39m\u001b[33mPassing a \u001b[39m\u001b[33m'\u001b[39m\u001b[33mhint\u001b[39m\u001b[33m'\u001b[39m\u001b[33m is required when using the min/max query\u001b[39m\u001b[33m\"\u001b[39m\n\u001b[32m   1193\u001b[39m             \u001b[33m\"\u001b[39m\u001b[33m option to ensure the query utilizes the correct index\u001b[39m\u001b[33m\"\u001b[39m\n\u001b[32m   1194\u001b[39m         )\n\u001b[32m   1195\u001b[39m     q = \u001b[38;5;28mself\u001b[39m._query_class(\n\u001b[32m   1196\u001b[39m         \u001b[38;5;28mself\u001b[39m._query_flags,\n\u001b[32m   1197\u001b[39m         \u001b[38;5;28mself\u001b[39m._collection.database.name,\n\u001b[32m   (...)\u001b[39m\u001b[32m   1211\u001b[39m         \u001b[38;5;28mself\u001b[39m._exhaust,\n\u001b[32m   1212\u001b[39m     )\n\u001b[32m-> \u001b[39m\u001b[32m1213\u001b[39m     \u001b[38;5;28;43mself\u001b[39;49m\u001b[43m.\u001b[49m\u001b[43m_send_message\u001b[49m\u001b[43m(\u001b[49m\u001b[43mq\u001b[49m\u001b[43m)\u001b[49m\n\u001b[32m   1214\u001b[39m \u001b[38;5;28;01melif\u001b[39;00m \u001b[38;5;28mself\u001b[39m._id:  \u001b[38;5;66;03m# Get More\u001b[39;00m\n\u001b[32m   1215\u001b[39m     \u001b[38;5;28;01mif\u001b[39;00m \u001b[38;5;28mself\u001b[39m._limit:\n",
      "\u001b[36mFile \u001b[39m\u001b[32mw:\\Playground\\nextjs\\nextjs-ecommerce-app\\.venv\\Lib\\site-packages\\pymongo\\synchronous\\cursor.py:1108\u001b[39m, in \u001b[36mCursor._send_message\u001b[39m\u001b[34m(self, operation)\u001b[39m\n\u001b[32m   1105\u001b[39m     \u001b[38;5;28;01mraise\u001b[39;00m InvalidOperation(\u001b[33m\"\u001b[39m\u001b[33mexhaust cursors do not support auto encryption\u001b[39m\u001b[33m\"\u001b[39m)\n\u001b[32m   1107\u001b[39m \u001b[38;5;28;01mtry\u001b[39;00m:\n\u001b[32m-> \u001b[39m\u001b[32m1108\u001b[39m     response = \u001b[43mclient\u001b[49m\u001b[43m.\u001b[49m\u001b[43m_run_operation\u001b[49m\u001b[43m(\u001b[49m\n\u001b[32m   1109\u001b[39m \u001b[43m        \u001b[49m\u001b[43moperation\u001b[49m\u001b[43m,\u001b[49m\u001b[43m \u001b[49m\u001b[38;5;28;43mself\u001b[39;49m\u001b[43m.\u001b[49m\u001b[43m_unpack_response\u001b[49m\u001b[43m,\u001b[49m\u001b[43m \u001b[49m\u001b[43maddress\u001b[49m\u001b[43m=\u001b[49m\u001b[38;5;28;43mself\u001b[39;49m\u001b[43m.\u001b[49m\u001b[43m_address\u001b[49m\n\u001b[32m   1110\u001b[39m \u001b[43m    \u001b[49m\u001b[43m)\u001b[49m\n\u001b[32m   1111\u001b[39m \u001b[38;5;28;01mexcept\u001b[39;00m OperationFailure \u001b[38;5;28;01mas\u001b[39;00m exc:\n\u001b[32m   1112\u001b[39m     \u001b[38;5;28;01mif\u001b[39;00m exc.code \u001b[38;5;129;01min\u001b[39;00m _CURSOR_CLOSED_ERRORS \u001b[38;5;129;01mor\u001b[39;00m \u001b[38;5;28mself\u001b[39m._exhaust:\n\u001b[32m   1113\u001b[39m         \u001b[38;5;66;03m# Don't send killCursors because the cursor is already closed.\u001b[39;00m\n",
      "\u001b[36mFile \u001b[39m\u001b[32mw:\\Playground\\nextjs\\nextjs-ecommerce-app\\.venv\\Lib\\site-packages\\pymongo\\_csot.py:125\u001b[39m, in \u001b[36mapply.<locals>.csot_wrapper\u001b[39m\u001b[34m(self, *args, **kwargs)\u001b[39m\n\u001b[32m    123\u001b[39m         \u001b[38;5;28;01mwith\u001b[39;00m _TimeoutContext(timeout):\n\u001b[32m    124\u001b[39m             \u001b[38;5;28;01mreturn\u001b[39;00m func(\u001b[38;5;28mself\u001b[39m, *args, **kwargs)\n\u001b[32m--> \u001b[39m\u001b[32m125\u001b[39m \u001b[38;5;28;01mreturn\u001b[39;00m \u001b[43mfunc\u001b[49m\u001b[43m(\u001b[49m\u001b[38;5;28;43mself\u001b[39;49m\u001b[43m,\u001b[49m\u001b[43m \u001b[49m\u001b[43m*\u001b[49m\u001b[43margs\u001b[49m\u001b[43m,\u001b[49m\u001b[43m \u001b[49m\u001b[43m*\u001b[49m\u001b[43m*\u001b[49m\u001b[43mkwargs\u001b[49m\u001b[43m)\u001b[49m\n",
      "\u001b[36mFile \u001b[39m\u001b[32mw:\\Playground\\nextjs\\nextjs-ecommerce-app\\.venv\\Lib\\site-packages\\pymongo\\synchronous\\mongo_client.py:1938\u001b[39m, in \u001b[36mMongoClient._run_operation\u001b[39m\u001b[34m(self, operation, unpack_res, address)\u001b[39m\n\u001b[32m   1928\u001b[39m     operation.reset()  \u001b[38;5;66;03m# Reset op in case of retry.\u001b[39;00m\n\u001b[32m   1929\u001b[39m     \u001b[38;5;28;01mreturn\u001b[39;00m server.run_operation(\n\u001b[32m   1930\u001b[39m         conn,\n\u001b[32m   1931\u001b[39m         operation,\n\u001b[32m   (...)\u001b[39m\u001b[32m   1935\u001b[39m         \u001b[38;5;28mself\u001b[39m,\n\u001b[32m   1936\u001b[39m     )\n\u001b[32m-> \u001b[39m\u001b[32m1938\u001b[39m \u001b[38;5;28;01mreturn\u001b[39;00m \u001b[38;5;28;43mself\u001b[39;49m\u001b[43m.\u001b[49m\u001b[43m_retryable_read\u001b[49m\u001b[43m(\u001b[49m\n\u001b[32m   1939\u001b[39m \u001b[43m    \u001b[49m\u001b[43m_cmd\u001b[49m\u001b[43m,\u001b[49m\n\u001b[32m   1940\u001b[39m \u001b[43m    \u001b[49m\u001b[43moperation\u001b[49m\u001b[43m.\u001b[49m\u001b[43mread_preference\u001b[49m\u001b[43m,\u001b[49m\n\u001b[32m   1941\u001b[39m \u001b[43m    \u001b[49m\u001b[43moperation\u001b[49m\u001b[43m.\u001b[49m\u001b[43msession\u001b[49m\u001b[43m,\u001b[49m\u001b[43m  \u001b[49m\u001b[38;5;66;43;03m# type: ignore[arg-type]\u001b[39;49;00m\n\u001b[32m   1942\u001b[39m \u001b[43m    \u001b[49m\u001b[43maddress\u001b[49m\u001b[43m=\u001b[49m\u001b[43maddress\u001b[49m\u001b[43m,\u001b[49m\n\u001b[32m   1943\u001b[39m \u001b[43m    \u001b[49m\u001b[43mretryable\u001b[49m\u001b[43m=\u001b[49m\u001b[38;5;28;43misinstance\u001b[39;49m\u001b[43m(\u001b[49m\u001b[43moperation\u001b[49m\u001b[43m,\u001b[49m\u001b[43m \u001b[49m\u001b[43m_Query\u001b[49m\u001b[43m)\u001b[49m\u001b[43m,\u001b[49m\n\u001b[32m   1944\u001b[39m \u001b[43m    \u001b[49m\u001b[43moperation\u001b[49m\u001b[43m=\u001b[49m\u001b[43moperation\u001b[49m\u001b[43m.\u001b[49m\u001b[43mname\u001b[49m\u001b[43m,\u001b[49m\n\u001b[32m   1945\u001b[39m \u001b[43m\u001b[49m\u001b[43m)\u001b[49m\n",
      "\u001b[36mFile \u001b[39m\u001b[32mw:\\Playground\\nextjs\\nextjs-ecommerce-app\\.venv\\Lib\\site-packages\\pymongo\\synchronous\\mongo_client.py:2047\u001b[39m, in \u001b[36mMongoClient._retryable_read\u001b[39m\u001b[34m(self, func, read_pref, session, operation, address, retryable, operation_id)\u001b[39m\n\u001b[32m   2042\u001b[39m \u001b[38;5;66;03m# Ensure that the client supports retrying on reads and there is no session in\u001b[39;00m\n\u001b[32m   2043\u001b[39m \u001b[38;5;66;03m# transaction, otherwise, we will not support retry behavior for this call.\u001b[39;00m\n\u001b[32m   2044\u001b[39m retryable = \u001b[38;5;28mbool\u001b[39m(\n\u001b[32m   2045\u001b[39m     retryable \u001b[38;5;129;01mand\u001b[39;00m \u001b[38;5;28mself\u001b[39m.options.retry_reads \u001b[38;5;129;01mand\u001b[39;00m \u001b[38;5;129;01mnot\u001b[39;00m (session \u001b[38;5;129;01mand\u001b[39;00m session.in_transaction)\n\u001b[32m   2046\u001b[39m )\n\u001b[32m-> \u001b[39m\u001b[32m2047\u001b[39m \u001b[38;5;28;01mreturn\u001b[39;00m \u001b[38;5;28;43mself\u001b[39;49m\u001b[43m.\u001b[49m\u001b[43m_retry_internal\u001b[49m\u001b[43m(\u001b[49m\n\u001b[32m   2048\u001b[39m \u001b[43m    \u001b[49m\u001b[43mfunc\u001b[49m\u001b[43m,\u001b[49m\n\u001b[32m   2049\u001b[39m \u001b[43m    \u001b[49m\u001b[43msession\u001b[49m\u001b[43m,\u001b[49m\n\u001b[32m   2050\u001b[39m \u001b[43m    \u001b[49m\u001b[38;5;28;43;01mNone\u001b[39;49;00m\u001b[43m,\u001b[49m\n\u001b[32m   2051\u001b[39m \u001b[43m    \u001b[49m\u001b[43moperation\u001b[49m\u001b[43m,\u001b[49m\n\u001b[32m   2052\u001b[39m \u001b[43m    \u001b[49m\u001b[43mis_read\u001b[49m\u001b[43m=\u001b[49m\u001b[38;5;28;43;01mTrue\u001b[39;49;00m\u001b[43m,\u001b[49m\n\u001b[32m   2053\u001b[39m \u001b[43m    \u001b[49m\u001b[43maddress\u001b[49m\u001b[43m=\u001b[49m\u001b[43maddress\u001b[49m\u001b[43m,\u001b[49m\n\u001b[32m   2054\u001b[39m \u001b[43m    \u001b[49m\u001b[43mread_pref\u001b[49m\u001b[43m=\u001b[49m\u001b[43mread_pref\u001b[49m\u001b[43m,\u001b[49m\n\u001b[32m   2055\u001b[39m \u001b[43m    \u001b[49m\u001b[43mretryable\u001b[49m\u001b[43m=\u001b[49m\u001b[43mretryable\u001b[49m\u001b[43m,\u001b[49m\n\u001b[32m   2056\u001b[39m \u001b[43m    \u001b[49m\u001b[43moperation_id\u001b[49m\u001b[43m=\u001b[49m\u001b[43moperation_id\u001b[49m\u001b[43m,\u001b[49m\n\u001b[32m   2057\u001b[39m \u001b[43m\u001b[49m\u001b[43m)\u001b[49m\n",
      "\u001b[36mFile \u001b[39m\u001b[32mw:\\Playground\\nextjs\\nextjs-ecommerce-app\\.venv\\Lib\\site-packages\\pymongo\\_csot.py:125\u001b[39m, in \u001b[36mapply.<locals>.csot_wrapper\u001b[39m\u001b[34m(self, *args, **kwargs)\u001b[39m\n\u001b[32m    123\u001b[39m         \u001b[38;5;28;01mwith\u001b[39;00m _TimeoutContext(timeout):\n\u001b[32m    124\u001b[39m             \u001b[38;5;28;01mreturn\u001b[39;00m func(\u001b[38;5;28mself\u001b[39m, *args, **kwargs)\n\u001b[32m--> \u001b[39m\u001b[32m125\u001b[39m \u001b[38;5;28;01mreturn\u001b[39;00m \u001b[43mfunc\u001b[49m\u001b[43m(\u001b[49m\u001b[38;5;28;43mself\u001b[39;49m\u001b[43m,\u001b[49m\u001b[43m \u001b[49m\u001b[43m*\u001b[49m\u001b[43margs\u001b[49m\u001b[43m,\u001b[49m\u001b[43m \u001b[49m\u001b[43m*\u001b[49m\u001b[43m*\u001b[49m\u001b[43mkwargs\u001b[49m\u001b[43m)\u001b[49m\n",
      "\u001b[36mFile \u001b[39m\u001b[32mw:\\Playground\\nextjs\\nextjs-ecommerce-app\\.venv\\Lib\\site-packages\\pymongo\\synchronous\\mongo_client.py:2014\u001b[39m, in \u001b[36mMongoClient._retry_internal\u001b[39m\u001b[34m(self, func, session, bulk, operation, is_read, address, read_pref, retryable, operation_id)\u001b[39m\n\u001b[32m   1977\u001b[39m \u001b[38;5;129m@_csot\u001b[39m.apply\n\u001b[32m   1978\u001b[39m \u001b[38;5;28;01mdef\u001b[39;00m\u001b[38;5;250m \u001b[39m\u001b[34m_retry_internal\u001b[39m(\n\u001b[32m   1979\u001b[39m     \u001b[38;5;28mself\u001b[39m,\n\u001b[32m   (...)\u001b[39m\u001b[32m   1988\u001b[39m     operation_id: Optional[\u001b[38;5;28mint\u001b[39m] = \u001b[38;5;28;01mNone\u001b[39;00m,\n\u001b[32m   1989\u001b[39m ) -> T:\n\u001b[32m   1990\u001b[39m \u001b[38;5;250m    \u001b[39m\u001b[33;03m\"\"\"Internal retryable helper for all client transactions.\u001b[39;00m\n\u001b[32m   1991\u001b[39m \n\u001b[32m   1992\u001b[39m \u001b[33;03m    :param func: Callback function we want to retry\u001b[39;00m\n\u001b[32m   (...)\u001b[39m\u001b[32m   2001\u001b[39m \u001b[33;03m    :return: Output of the calling func()\u001b[39;00m\n\u001b[32m   2002\u001b[39m \u001b[33;03m    \"\"\"\u001b[39;00m\n\u001b[32m   2003\u001b[39m     \u001b[38;5;28;01mreturn\u001b[39;00m \u001b[43m_ClientConnectionRetryable\u001b[49m\u001b[43m(\u001b[49m\n\u001b[32m   2004\u001b[39m \u001b[43m        \u001b[49m\u001b[43mmongo_client\u001b[49m\u001b[43m=\u001b[49m\u001b[38;5;28;43mself\u001b[39;49m\u001b[43m,\u001b[49m\n\u001b[32m   2005\u001b[39m \u001b[43m        \u001b[49m\u001b[43mfunc\u001b[49m\u001b[43m=\u001b[49m\u001b[43mfunc\u001b[49m\u001b[43m,\u001b[49m\n\u001b[32m   2006\u001b[39m \u001b[43m        \u001b[49m\u001b[43mbulk\u001b[49m\u001b[43m=\u001b[49m\u001b[43mbulk\u001b[49m\u001b[43m,\u001b[49m\n\u001b[32m   2007\u001b[39m \u001b[43m        \u001b[49m\u001b[43moperation\u001b[49m\u001b[43m=\u001b[49m\u001b[43moperation\u001b[49m\u001b[43m,\u001b[49m\n\u001b[32m   2008\u001b[39m \u001b[43m        \u001b[49m\u001b[43mis_read\u001b[49m\u001b[43m=\u001b[49m\u001b[43mis_read\u001b[49m\u001b[43m,\u001b[49m\n\u001b[32m   2009\u001b[39m \u001b[43m        \u001b[49m\u001b[43msession\u001b[49m\u001b[43m=\u001b[49m\u001b[43msession\u001b[49m\u001b[43m,\u001b[49m\n\u001b[32m   2010\u001b[39m \u001b[43m        \u001b[49m\u001b[43mread_pref\u001b[49m\u001b[43m=\u001b[49m\u001b[43mread_pref\u001b[49m\u001b[43m,\u001b[49m\n\u001b[32m   2011\u001b[39m \u001b[43m        \u001b[49m\u001b[43maddress\u001b[49m\u001b[43m=\u001b[49m\u001b[43maddress\u001b[49m\u001b[43m,\u001b[49m\n\u001b[32m   2012\u001b[39m \u001b[43m        \u001b[49m\u001b[43mretryable\u001b[49m\u001b[43m=\u001b[49m\u001b[43mretryable\u001b[49m\u001b[43m,\u001b[49m\n\u001b[32m   2013\u001b[39m \u001b[43m        \u001b[49m\u001b[43moperation_id\u001b[49m\u001b[43m=\u001b[49m\u001b[43moperation_id\u001b[49m\u001b[43m,\u001b[49m\n\u001b[32m-> \u001b[39m\u001b[32m2014\u001b[39m \u001b[43m    \u001b[49m\u001b[43m)\u001b[49m\u001b[43m.\u001b[49m\u001b[43mrun\u001b[49m\u001b[43m(\u001b[49m\u001b[43m)\u001b[49m\n",
      "\u001b[36mFile \u001b[39m\u001b[32mw:\\Playground\\nextjs\\nextjs-ecommerce-app\\.venv\\Lib\\site-packages\\pymongo\\synchronous\\mongo_client.py:2765\u001b[39m, in \u001b[36m_ClientConnectionRetryable.run\u001b[39m\u001b[34m(self)\u001b[39m\n\u001b[32m   2763\u001b[39m \u001b[38;5;28mself\u001b[39m._check_last_error(check_csot=\u001b[38;5;28;01mTrue\u001b[39;00m)\n\u001b[32m   2764\u001b[39m \u001b[38;5;28;01mtry\u001b[39;00m:\n\u001b[32m-> \u001b[39m\u001b[32m2765\u001b[39m     \u001b[38;5;28;01mreturn\u001b[39;00m \u001b[38;5;28;43mself\u001b[39;49m\u001b[43m.\u001b[49m\u001b[43m_read\u001b[49m\u001b[43m(\u001b[49m\u001b[43m)\u001b[49m \u001b[38;5;28;01mif\u001b[39;00m \u001b[38;5;28mself\u001b[39m._is_read \u001b[38;5;28;01melse\u001b[39;00m \u001b[38;5;28mself\u001b[39m._write()\n\u001b[32m   2766\u001b[39m \u001b[38;5;28;01mexcept\u001b[39;00m ServerSelectionTimeoutError:\n\u001b[32m   2767\u001b[39m     \u001b[38;5;66;03m# The application may think the write was never attempted\u001b[39;00m\n\u001b[32m   2768\u001b[39m     \u001b[38;5;66;03m# if we raise ServerSelectionTimeoutError on the retry\u001b[39;00m\n\u001b[32m   2769\u001b[39m     \u001b[38;5;66;03m# attempt. Raise the original exception instead.\u001b[39;00m\n\u001b[32m   2770\u001b[39m     \u001b[38;5;28mself\u001b[39m._check_last_error()\n",
      "\u001b[36mFile \u001b[39m\u001b[32mw:\\Playground\\nextjs\\nextjs-ecommerce-app\\.venv\\Lib\\site-packages\\pymongo\\synchronous\\mongo_client.py:2926\u001b[39m, in \u001b[36m_ClientConnectionRetryable._read\u001b[39m\u001b[34m(self)\u001b[39m\n\u001b[32m   2918\u001b[39m \u001b[38;5;28;01mif\u001b[39;00m \u001b[38;5;28mself\u001b[39m._retrying:\n\u001b[32m   2919\u001b[39m     _debug_log(\n\u001b[32m   2920\u001b[39m         _COMMAND_LOGGER,\n\u001b[32m   2921\u001b[39m         message=\u001b[33mf\u001b[39m\u001b[33m\"\u001b[39m\u001b[33mRetrying read attempt number \u001b[39m\u001b[38;5;132;01m{\u001b[39;00m\u001b[38;5;28mself\u001b[39m._attempt_number\u001b[38;5;132;01m}\u001b[39;00m\u001b[33m\"\u001b[39m,\n\u001b[32m   (...)\u001b[39m\u001b[32m   2924\u001b[39m         operationId=\u001b[38;5;28mself\u001b[39m._operation_id,\n\u001b[32m   2925\u001b[39m     )\n\u001b[32m-> \u001b[39m\u001b[32m2926\u001b[39m \u001b[38;5;28;01mreturn\u001b[39;00m \u001b[38;5;28;43mself\u001b[39;49m\u001b[43m.\u001b[49m\u001b[43m_func\u001b[49m\u001b[43m(\u001b[49m\u001b[38;5;28;43mself\u001b[39;49m\u001b[43m.\u001b[49m\u001b[43m_session\u001b[49m\u001b[43m,\u001b[49m\u001b[43m \u001b[49m\u001b[38;5;28;43mself\u001b[39;49m\u001b[43m.\u001b[49m\u001b[43m_server\u001b[49m\u001b[43m,\u001b[49m\u001b[43m \u001b[49m\u001b[43mconn\u001b[49m\u001b[43m,\u001b[49m\u001b[43m \u001b[49m\u001b[43mread_pref\u001b[49m\u001b[43m)\u001b[49m\n",
      "\u001b[36mFile \u001b[39m\u001b[32mw:\\Playground\\nextjs\\nextjs-ecommerce-app\\.venv\\Lib\\site-packages\\pymongo\\synchronous\\mongo_client.py:1929\u001b[39m, in \u001b[36mMongoClient._run_operation.<locals>._cmd\u001b[39m\u001b[34m(_session, server, conn, read_preference)\u001b[39m\n\u001b[32m   1922\u001b[39m \u001b[38;5;28;01mdef\u001b[39;00m\u001b[38;5;250m \u001b[39m\u001b[34m_cmd\u001b[39m(\n\u001b[32m   1923\u001b[39m     _session: Optional[ClientSession],\n\u001b[32m   1924\u001b[39m     server: Server,\n\u001b[32m   1925\u001b[39m     conn: Connection,\n\u001b[32m   1926\u001b[39m     read_preference: _ServerMode,\n\u001b[32m   1927\u001b[39m ) -> Response:\n\u001b[32m   1928\u001b[39m     operation.reset()  \u001b[38;5;66;03m# Reset op in case of retry.\u001b[39;00m\n\u001b[32m-> \u001b[39m\u001b[32m1929\u001b[39m     \u001b[38;5;28;01mreturn\u001b[39;00m \u001b[43mserver\u001b[49m\u001b[43m.\u001b[49m\u001b[43mrun_operation\u001b[49m\u001b[43m(\u001b[49m\n\u001b[32m   1930\u001b[39m \u001b[43m        \u001b[49m\u001b[43mconn\u001b[49m\u001b[43m,\u001b[49m\n\u001b[32m   1931\u001b[39m \u001b[43m        \u001b[49m\u001b[43moperation\u001b[49m\u001b[43m,\u001b[49m\n\u001b[32m   1932\u001b[39m \u001b[43m        \u001b[49m\u001b[43mread_preference\u001b[49m\u001b[43m,\u001b[49m\n\u001b[32m   1933\u001b[39m \u001b[43m        \u001b[49m\u001b[38;5;28;43mself\u001b[39;49m\u001b[43m.\u001b[49m\u001b[43m_event_listeners\u001b[49m\u001b[43m,\u001b[49m\n\u001b[32m   1934\u001b[39m \u001b[43m        \u001b[49m\u001b[43munpack_res\u001b[49m\u001b[43m,\u001b[49m\n\u001b[32m   1935\u001b[39m \u001b[43m        \u001b[49m\u001b[38;5;28;43mself\u001b[39;49m\u001b[43m,\u001b[49m\n\u001b[32m   1936\u001b[39m \u001b[43m    \u001b[49m\u001b[43m)\u001b[49m\n",
      "\u001b[36mFile \u001b[39m\u001b[32mw:\\Playground\\nextjs\\nextjs-ecommerce-app\\.venv\\Lib\\site-packages\\pymongo\\synchronous\\helpers.py:47\u001b[39m, in \u001b[36m_handle_reauth.<locals>.inner\u001b[39m\u001b[34m(*args, **kwargs)\u001b[39m\n\u001b[32m     44\u001b[39m \u001b[38;5;28;01mfrom\u001b[39;00m\u001b[38;5;250m \u001b[39m\u001b[34;01mpymongo\u001b[39;00m\u001b[34;01m.\u001b[39;00m\u001b[34;01msynchronous\u001b[39;00m\u001b[34;01m.\u001b[39;00m\u001b[34;01mpool\u001b[39;00m\u001b[38;5;250m \u001b[39m\u001b[38;5;28;01mimport\u001b[39;00m Connection\n\u001b[32m     46\u001b[39m \u001b[38;5;28;01mtry\u001b[39;00m:\n\u001b[32m---> \u001b[39m\u001b[32m47\u001b[39m     \u001b[38;5;28;01mreturn\u001b[39;00m \u001b[43mfunc\u001b[49m\u001b[43m(\u001b[49m\u001b[43m*\u001b[49m\u001b[43margs\u001b[49m\u001b[43m,\u001b[49m\u001b[43m \u001b[49m\u001b[43m*\u001b[49m\u001b[43m*\u001b[49m\u001b[43mkwargs\u001b[49m\u001b[43m)\u001b[49m\n\u001b[32m     48\u001b[39m \u001b[38;5;28;01mexcept\u001b[39;00m OperationFailure \u001b[38;5;28;01mas\u001b[39;00m exc:\n\u001b[32m     49\u001b[39m     \u001b[38;5;28;01mif\u001b[39;00m no_reauth:\n",
      "\u001b[36mFile \u001b[39m\u001b[32mw:\\Playground\\nextjs\\nextjs-ecommerce-app\\.venv\\Lib\\site-packages\\pymongo\\synchronous\\server.py:170\u001b[39m, in \u001b[36mServer.run_operation\u001b[39m\u001b[34m(self, conn, operation, read_preference, listeners, unpack_res, client)\u001b[39m\n\u001b[32m    168\u001b[39m     request_id = \u001b[32m0\u001b[39m\n\u001b[32m    169\u001b[39m \u001b[38;5;28;01melse\u001b[39;00m:\n\u001b[32m--> \u001b[39m\u001b[32m170\u001b[39m     message = \u001b[43moperation\u001b[49m\u001b[43m.\u001b[49m\u001b[43mget_message\u001b[49m\u001b[43m(\u001b[49m\u001b[43mread_preference\u001b[49m\u001b[43m,\u001b[49m\u001b[43m \u001b[49m\u001b[43mconn\u001b[49m\u001b[43m,\u001b[49m\u001b[43m \u001b[49m\u001b[43muse_cmd\u001b[49m\u001b[43m)\u001b[49m\n\u001b[32m    171\u001b[39m     request_id, data, max_doc_size = \u001b[38;5;28mself\u001b[39m._split_message(message)\n\u001b[32m    173\u001b[39m \u001b[38;5;28;01mif\u001b[39;00m _COMMAND_LOGGER.isEnabledFor(logging.DEBUG):\n",
      "\u001b[36mFile \u001b[39m\u001b[32mw:\\Playground\\nextjs\\nextjs-ecommerce-app\\.venv\\Lib\\site-packages\\pymongo\\message.py:1697\u001b[39m, in \u001b[36m_Query.get_message\u001b[39m\u001b[34m(self, read_preference, conn, use_cmd)\u001b[39m\n\u001b[32m   1695\u001b[39m \u001b[38;5;28;01mif\u001b[39;00m use_cmd:\n\u001b[32m   1696\u001b[39m     spec = \u001b[38;5;28mself\u001b[39m.as_command(conn)[\u001b[32m0\u001b[39m]\n\u001b[32m-> \u001b[39m\u001b[32m1697\u001b[39m     request_id, msg, size, _ = \u001b[43m_op_msg\u001b[49m\u001b[43m(\u001b[49m\n\u001b[32m   1698\u001b[39m \u001b[43m        \u001b[49m\u001b[32;43m0\u001b[39;49m\u001b[43m,\u001b[49m\n\u001b[32m   1699\u001b[39m \u001b[43m        \u001b[49m\u001b[43mspec\u001b[49m\u001b[43m,\u001b[49m\n\u001b[32m   1700\u001b[39m \u001b[43m        \u001b[49m\u001b[38;5;28;43mself\u001b[39;49m\u001b[43m.\u001b[49m\u001b[43mdb\u001b[49m\u001b[43m,\u001b[49m\n\u001b[32m   1701\u001b[39m \u001b[43m        \u001b[49m\u001b[43mread_preference\u001b[49m\u001b[43m,\u001b[49m\n\u001b[32m   1702\u001b[39m \u001b[43m        \u001b[49m\u001b[38;5;28;43mself\u001b[39;49m\u001b[43m.\u001b[49m\u001b[43mcodec_options\u001b[49m\u001b[43m,\u001b[49m\n\u001b[32m   1703\u001b[39m \u001b[43m        \u001b[49m\u001b[43mctx\u001b[49m\u001b[43m=\u001b[49m\u001b[43mconn\u001b[49m\u001b[43m.\u001b[49m\u001b[43mcompression_context\u001b[49m\u001b[43m,\u001b[49m\n\u001b[32m   1704\u001b[39m \u001b[43m    \u001b[49m\u001b[43m)\u001b[49m\n\u001b[32m   1705\u001b[39m     \u001b[38;5;28;01mreturn\u001b[39;00m request_id, msg, size\n\u001b[32m   1707\u001b[39m \u001b[38;5;66;03m# OP_QUERY treats ntoreturn of -1 and 1 the same, return\u001b[39;00m\n\u001b[32m   1708\u001b[39m \u001b[38;5;66;03m# one document and close the cursor. We have to use 2 for\u001b[39;00m\n\u001b[32m   1709\u001b[39m \u001b[38;5;66;03m# batch size if 1 is specified.\u001b[39;00m\n",
      "\u001b[36mFile \u001b[39m\u001b[32mw:\\Playground\\nextjs\\nextjs-ecommerce-app\\.venv\\Lib\\site-packages\\pymongo\\message.py:419\u001b[39m, in \u001b[36m_op_msg\u001b[39m\u001b[34m(flags, command, dbname, read_preference, opts, ctx)\u001b[39m\n\u001b[32m    417\u001b[39m     \u001b[38;5;28;01mif\u001b[39;00m ctx:\n\u001b[32m    418\u001b[39m         \u001b[38;5;28;01mreturn\u001b[39;00m _op_msg_compressed(flags, command, identifier, docs, opts, ctx)\n\u001b[32m--> \u001b[39m\u001b[32m419\u001b[39m     \u001b[38;5;28;01mreturn\u001b[39;00m \u001b[43m_op_msg_uncompressed\u001b[49m\u001b[43m(\u001b[49m\u001b[43mflags\u001b[49m\u001b[43m,\u001b[49m\u001b[43m \u001b[49m\u001b[43mcommand\u001b[49m\u001b[43m,\u001b[49m\u001b[43m \u001b[49m\u001b[43midentifier\u001b[49m\u001b[43m,\u001b[49m\u001b[43m \u001b[49m\u001b[43mdocs\u001b[49m\u001b[43m,\u001b[49m\u001b[43m \u001b[49m\u001b[43mopts\u001b[49m\u001b[43m)\u001b[49m\n\u001b[32m    420\u001b[39m \u001b[38;5;28;01mfinally\u001b[39;00m:\n\u001b[32m    421\u001b[39m     \u001b[38;5;66;03m# Add the field back to the command.\u001b[39;00m\n\u001b[32m    422\u001b[39m     \u001b[38;5;28;01mif\u001b[39;00m identifier:\n",
      "\u001b[31mInvalidDocument\u001b[39m: Invalid document {'find': 'products', 'filter': {<built-in function id>: '123'}, 'lsid': {'id': Binary(b'b\\x90\\x96\\x8d\\xf3\\xd1JY\\x89.\\xbf\\xd9\\x13\\xf2U\\x13', 4)}, '$clusterTime': {'clusterTime': Timestamp(1757918704, 9), 'signature': {'hash': b'\\x85;\\xe9&\\xc2\\xd2\\xed;ME\\xa9G\\xa7\\xbc9c\\x89\\x08kQ', 'keyId': 7486577435190755331}}, '$db': 'demo'} | documents must have only string keys, key was <built-in function id>"
     ]
    }
   ],
   "source": [
    "# [x for x in collection.find({ id: '123' })]\n",
    "[ x for x in collection.find({id: '123'}) ]"
   ]
  },
  {
   "cell_type": "code",
   "execution_count": null,
   "id": "38a73b3f",
   "metadata": {},
   "outputs": [
    {
     "ename": "InvalidDocument",
     "evalue": "Invalid document {'find': 'products', 'filter': {<built-in function id>: '123'}, 'lsid': {'id': Binary(b'\\x12\\xc0j+\\xa8\\x8bM\\x90\\xac\\xceT\\x17\\xd5\\xe2\\x1a\\x8f', 4)}, '$clusterTime': {'clusterTime': Timestamp(1757878880, 4), 'signature': {'hash': b'\\xf0g{m-]\\x8a\\xcdC\\x7f.\\xc5i\\xf4h\\xaa\\xc3\\xdd\\x1a\\xa9', 'keyId': 7486577435190755331}}, '$db': 'demo'} | documents must have only string keys, key was <built-in function id>",
     "output_type": "error",
     "traceback": [
      "\u001b[31m---------------------------------------------------------------------------\u001b[39m",
      "\u001b[31mInvalidDocument\u001b[39m                           Traceback (most recent call last)",
      "\u001b[36mCell\u001b[39m\u001b[36m \u001b[39m\u001b[32mIn[25]\u001b[39m\u001b[32m, line 1\u001b[39m\n\u001b[32m----> \u001b[39m\u001b[32m1\u001b[39m \u001b[38;5;28;43;01mfor\u001b[39;49;00m\u001b[43m \u001b[49m\u001b[43mx\u001b[49m\u001b[43m \u001b[49m\u001b[38;5;129;43;01min\u001b[39;49;00m\u001b[43m \u001b[49m\u001b[43mcollection\u001b[49m\u001b[43m.\u001b[49m\u001b[43mfind\u001b[49m\u001b[43m(\u001b[49m\u001b[43m{\u001b[49m\u001b[38;5;28;43mid\u001b[39;49m\u001b[43m:\u001b[49m\u001b[43m \u001b[49m\u001b[33;43m'\u001b[39;49m\u001b[33;43m123\u001b[39;49m\u001b[33;43m'\u001b[39;49m\u001b[43m}\u001b[49m\u001b[43m)\u001b[49m\u001b[43m:\u001b[49m\n\u001b[32m      2\u001b[39m \u001b[43m    \u001b[49m\u001b[38;5;28;43mprint\u001b[39;49m\u001b[43m(\u001b[49m\u001b[43mx\u001b[49m\u001b[43m)\u001b[49m\n",
      "\u001b[36mFile \u001b[39m\u001b[32mw:\\Playground\\nextjs\\nextjs-ecommerce-app\\.venv\\Lib\\site-packages\\pymongo\\synchronous\\cursor.py:1289\u001b[39m, in \u001b[36mCursor.__next__\u001b[39m\u001b[34m(self)\u001b[39m\n\u001b[32m   1288\u001b[39m \u001b[38;5;28;01mdef\u001b[39;00m\u001b[38;5;250m \u001b[39m\u001b[34m__next__\u001b[39m(\u001b[38;5;28mself\u001b[39m) -> _DocumentType:\n\u001b[32m-> \u001b[39m\u001b[32m1289\u001b[39m     \u001b[38;5;28;01mreturn\u001b[39;00m \u001b[38;5;28;43mself\u001b[39;49m\u001b[43m.\u001b[49m\u001b[43mnext\u001b[49m\u001b[43m(\u001b[49m\u001b[43m)\u001b[49m\n",
      "\u001b[36mFile \u001b[39m\u001b[32mw:\\Playground\\nextjs\\nextjs-ecommerce-app\\.venv\\Lib\\site-packages\\pymongo\\synchronous\\cursor.py:1265\u001b[39m, in \u001b[36mCursor.next\u001b[39m\u001b[34m(self)\u001b[39m\n\u001b[32m   1263\u001b[39m \u001b[38;5;28;01mif\u001b[39;00m \u001b[38;5;28mself\u001b[39m._empty:\n\u001b[32m   1264\u001b[39m     \u001b[38;5;28;01mraise\u001b[39;00m \u001b[38;5;167;01mStopIteration\u001b[39;00m\n\u001b[32m-> \u001b[39m\u001b[32m1265\u001b[39m \u001b[38;5;28;01mif\u001b[39;00m \u001b[38;5;28mlen\u001b[39m(\u001b[38;5;28mself\u001b[39m._data) \u001b[38;5;129;01mor\u001b[39;00m \u001b[38;5;28;43mself\u001b[39;49m\u001b[43m.\u001b[49m\u001b[43m_refresh\u001b[49m\u001b[43m(\u001b[49m\u001b[43m)\u001b[49m:\n\u001b[32m   1266\u001b[39m     \u001b[38;5;28;01mreturn\u001b[39;00m \u001b[38;5;28mself\u001b[39m._data.popleft()\n\u001b[32m   1267\u001b[39m \u001b[38;5;28;01melse\u001b[39;00m:\n",
      "\u001b[36mFile \u001b[39m\u001b[32mw:\\Playground\\nextjs\\nextjs-ecommerce-app\\.venv\\Lib\\site-packages\\pymongo\\synchronous\\cursor.py:1213\u001b[39m, in \u001b[36mCursor._refresh\u001b[39m\u001b[34m(self)\u001b[39m\n\u001b[32m   1191\u001b[39m         \u001b[38;5;28;01mraise\u001b[39;00m InvalidOperation(\n\u001b[32m   1192\u001b[39m             \u001b[33m\"\u001b[39m\u001b[33mPassing a \u001b[39m\u001b[33m'\u001b[39m\u001b[33mhint\u001b[39m\u001b[33m'\u001b[39m\u001b[33m is required when using the min/max query\u001b[39m\u001b[33m\"\u001b[39m\n\u001b[32m   1193\u001b[39m             \u001b[33m\"\u001b[39m\u001b[33m option to ensure the query utilizes the correct index\u001b[39m\u001b[33m\"\u001b[39m\n\u001b[32m   1194\u001b[39m         )\n\u001b[32m   1195\u001b[39m     q = \u001b[38;5;28mself\u001b[39m._query_class(\n\u001b[32m   1196\u001b[39m         \u001b[38;5;28mself\u001b[39m._query_flags,\n\u001b[32m   1197\u001b[39m         \u001b[38;5;28mself\u001b[39m._collection.database.name,\n\u001b[32m   (...)\u001b[39m\u001b[32m   1211\u001b[39m         \u001b[38;5;28mself\u001b[39m._exhaust,\n\u001b[32m   1212\u001b[39m     )\n\u001b[32m-> \u001b[39m\u001b[32m1213\u001b[39m     \u001b[38;5;28;43mself\u001b[39;49m\u001b[43m.\u001b[49m\u001b[43m_send_message\u001b[49m\u001b[43m(\u001b[49m\u001b[43mq\u001b[49m\u001b[43m)\u001b[49m\n\u001b[32m   1214\u001b[39m \u001b[38;5;28;01melif\u001b[39;00m \u001b[38;5;28mself\u001b[39m._id:  \u001b[38;5;66;03m# Get More\u001b[39;00m\n\u001b[32m   1215\u001b[39m     \u001b[38;5;28;01mif\u001b[39;00m \u001b[38;5;28mself\u001b[39m._limit:\n",
      "\u001b[36mFile \u001b[39m\u001b[32mw:\\Playground\\nextjs\\nextjs-ecommerce-app\\.venv\\Lib\\site-packages\\pymongo\\synchronous\\cursor.py:1108\u001b[39m, in \u001b[36mCursor._send_message\u001b[39m\u001b[34m(self, operation)\u001b[39m\n\u001b[32m   1105\u001b[39m     \u001b[38;5;28;01mraise\u001b[39;00m InvalidOperation(\u001b[33m\"\u001b[39m\u001b[33mexhaust cursors do not support auto encryption\u001b[39m\u001b[33m\"\u001b[39m)\n\u001b[32m   1107\u001b[39m \u001b[38;5;28;01mtry\u001b[39;00m:\n\u001b[32m-> \u001b[39m\u001b[32m1108\u001b[39m     response = \u001b[43mclient\u001b[49m\u001b[43m.\u001b[49m\u001b[43m_run_operation\u001b[49m\u001b[43m(\u001b[49m\n\u001b[32m   1109\u001b[39m \u001b[43m        \u001b[49m\u001b[43moperation\u001b[49m\u001b[43m,\u001b[49m\u001b[43m \u001b[49m\u001b[38;5;28;43mself\u001b[39;49m\u001b[43m.\u001b[49m\u001b[43m_unpack_response\u001b[49m\u001b[43m,\u001b[49m\u001b[43m \u001b[49m\u001b[43maddress\u001b[49m\u001b[43m=\u001b[49m\u001b[38;5;28;43mself\u001b[39;49m\u001b[43m.\u001b[49m\u001b[43m_address\u001b[49m\n\u001b[32m   1110\u001b[39m \u001b[43m    \u001b[49m\u001b[43m)\u001b[49m\n\u001b[32m   1111\u001b[39m \u001b[38;5;28;01mexcept\u001b[39;00m OperationFailure \u001b[38;5;28;01mas\u001b[39;00m exc:\n\u001b[32m   1112\u001b[39m     \u001b[38;5;28;01mif\u001b[39;00m exc.code \u001b[38;5;129;01min\u001b[39;00m _CURSOR_CLOSED_ERRORS \u001b[38;5;129;01mor\u001b[39;00m \u001b[38;5;28mself\u001b[39m._exhaust:\n\u001b[32m   1113\u001b[39m         \u001b[38;5;66;03m# Don't send killCursors because the cursor is already closed.\u001b[39;00m\n",
      "\u001b[36mFile \u001b[39m\u001b[32mw:\\Playground\\nextjs\\nextjs-ecommerce-app\\.venv\\Lib\\site-packages\\pymongo\\_csot.py:125\u001b[39m, in \u001b[36mapply.<locals>.csot_wrapper\u001b[39m\u001b[34m(self, *args, **kwargs)\u001b[39m\n\u001b[32m    123\u001b[39m         \u001b[38;5;28;01mwith\u001b[39;00m _TimeoutContext(timeout):\n\u001b[32m    124\u001b[39m             \u001b[38;5;28;01mreturn\u001b[39;00m func(\u001b[38;5;28mself\u001b[39m, *args, **kwargs)\n\u001b[32m--> \u001b[39m\u001b[32m125\u001b[39m \u001b[38;5;28;01mreturn\u001b[39;00m \u001b[43mfunc\u001b[49m\u001b[43m(\u001b[49m\u001b[38;5;28;43mself\u001b[39;49m\u001b[43m,\u001b[49m\u001b[43m \u001b[49m\u001b[43m*\u001b[49m\u001b[43margs\u001b[49m\u001b[43m,\u001b[49m\u001b[43m \u001b[49m\u001b[43m*\u001b[49m\u001b[43m*\u001b[49m\u001b[43mkwargs\u001b[49m\u001b[43m)\u001b[49m\n",
      "\u001b[36mFile \u001b[39m\u001b[32mw:\\Playground\\nextjs\\nextjs-ecommerce-app\\.venv\\Lib\\site-packages\\pymongo\\synchronous\\mongo_client.py:1938\u001b[39m, in \u001b[36mMongoClient._run_operation\u001b[39m\u001b[34m(self, operation, unpack_res, address)\u001b[39m\n\u001b[32m   1928\u001b[39m     operation.reset()  \u001b[38;5;66;03m# Reset op in case of retry.\u001b[39;00m\n\u001b[32m   1929\u001b[39m     \u001b[38;5;28;01mreturn\u001b[39;00m server.run_operation(\n\u001b[32m   1930\u001b[39m         conn,\n\u001b[32m   1931\u001b[39m         operation,\n\u001b[32m   (...)\u001b[39m\u001b[32m   1935\u001b[39m         \u001b[38;5;28mself\u001b[39m,\n\u001b[32m   1936\u001b[39m     )\n\u001b[32m-> \u001b[39m\u001b[32m1938\u001b[39m \u001b[38;5;28;01mreturn\u001b[39;00m \u001b[38;5;28;43mself\u001b[39;49m\u001b[43m.\u001b[49m\u001b[43m_retryable_read\u001b[49m\u001b[43m(\u001b[49m\n\u001b[32m   1939\u001b[39m \u001b[43m    \u001b[49m\u001b[43m_cmd\u001b[49m\u001b[43m,\u001b[49m\n\u001b[32m   1940\u001b[39m \u001b[43m    \u001b[49m\u001b[43moperation\u001b[49m\u001b[43m.\u001b[49m\u001b[43mread_preference\u001b[49m\u001b[43m,\u001b[49m\n\u001b[32m   1941\u001b[39m \u001b[43m    \u001b[49m\u001b[43moperation\u001b[49m\u001b[43m.\u001b[49m\u001b[43msession\u001b[49m\u001b[43m,\u001b[49m\u001b[43m  \u001b[49m\u001b[38;5;66;43;03m# type: ignore[arg-type]\u001b[39;49;00m\n\u001b[32m   1942\u001b[39m \u001b[43m    \u001b[49m\u001b[43maddress\u001b[49m\u001b[43m=\u001b[49m\u001b[43maddress\u001b[49m\u001b[43m,\u001b[49m\n\u001b[32m   1943\u001b[39m \u001b[43m    \u001b[49m\u001b[43mretryable\u001b[49m\u001b[43m=\u001b[49m\u001b[38;5;28;43misinstance\u001b[39;49m\u001b[43m(\u001b[49m\u001b[43moperation\u001b[49m\u001b[43m,\u001b[49m\u001b[43m \u001b[49m\u001b[43m_Query\u001b[49m\u001b[43m)\u001b[49m\u001b[43m,\u001b[49m\n\u001b[32m   1944\u001b[39m \u001b[43m    \u001b[49m\u001b[43moperation\u001b[49m\u001b[43m=\u001b[49m\u001b[43moperation\u001b[49m\u001b[43m.\u001b[49m\u001b[43mname\u001b[49m\u001b[43m,\u001b[49m\n\u001b[32m   1945\u001b[39m \u001b[43m\u001b[49m\u001b[43m)\u001b[49m\n",
      "\u001b[36mFile \u001b[39m\u001b[32mw:\\Playground\\nextjs\\nextjs-ecommerce-app\\.venv\\Lib\\site-packages\\pymongo\\synchronous\\mongo_client.py:2047\u001b[39m, in \u001b[36mMongoClient._retryable_read\u001b[39m\u001b[34m(self, func, read_pref, session, operation, address, retryable, operation_id)\u001b[39m\n\u001b[32m   2042\u001b[39m \u001b[38;5;66;03m# Ensure that the client supports retrying on reads and there is no session in\u001b[39;00m\n\u001b[32m   2043\u001b[39m \u001b[38;5;66;03m# transaction, otherwise, we will not support retry behavior for this call.\u001b[39;00m\n\u001b[32m   2044\u001b[39m retryable = \u001b[38;5;28mbool\u001b[39m(\n\u001b[32m   2045\u001b[39m     retryable \u001b[38;5;129;01mand\u001b[39;00m \u001b[38;5;28mself\u001b[39m.options.retry_reads \u001b[38;5;129;01mand\u001b[39;00m \u001b[38;5;129;01mnot\u001b[39;00m (session \u001b[38;5;129;01mand\u001b[39;00m session.in_transaction)\n\u001b[32m   2046\u001b[39m )\n\u001b[32m-> \u001b[39m\u001b[32m2047\u001b[39m \u001b[38;5;28;01mreturn\u001b[39;00m \u001b[38;5;28;43mself\u001b[39;49m\u001b[43m.\u001b[49m\u001b[43m_retry_internal\u001b[49m\u001b[43m(\u001b[49m\n\u001b[32m   2048\u001b[39m \u001b[43m    \u001b[49m\u001b[43mfunc\u001b[49m\u001b[43m,\u001b[49m\n\u001b[32m   2049\u001b[39m \u001b[43m    \u001b[49m\u001b[43msession\u001b[49m\u001b[43m,\u001b[49m\n\u001b[32m   2050\u001b[39m \u001b[43m    \u001b[49m\u001b[38;5;28;43;01mNone\u001b[39;49;00m\u001b[43m,\u001b[49m\n\u001b[32m   2051\u001b[39m \u001b[43m    \u001b[49m\u001b[43moperation\u001b[49m\u001b[43m,\u001b[49m\n\u001b[32m   2052\u001b[39m \u001b[43m    \u001b[49m\u001b[43mis_read\u001b[49m\u001b[43m=\u001b[49m\u001b[38;5;28;43;01mTrue\u001b[39;49;00m\u001b[43m,\u001b[49m\n\u001b[32m   2053\u001b[39m \u001b[43m    \u001b[49m\u001b[43maddress\u001b[49m\u001b[43m=\u001b[49m\u001b[43maddress\u001b[49m\u001b[43m,\u001b[49m\n\u001b[32m   2054\u001b[39m \u001b[43m    \u001b[49m\u001b[43mread_pref\u001b[49m\u001b[43m=\u001b[49m\u001b[43mread_pref\u001b[49m\u001b[43m,\u001b[49m\n\u001b[32m   2055\u001b[39m \u001b[43m    \u001b[49m\u001b[43mretryable\u001b[49m\u001b[43m=\u001b[49m\u001b[43mretryable\u001b[49m\u001b[43m,\u001b[49m\n\u001b[32m   2056\u001b[39m \u001b[43m    \u001b[49m\u001b[43moperation_id\u001b[49m\u001b[43m=\u001b[49m\u001b[43moperation_id\u001b[49m\u001b[43m,\u001b[49m\n\u001b[32m   2057\u001b[39m \u001b[43m\u001b[49m\u001b[43m)\u001b[49m\n",
      "\u001b[36mFile \u001b[39m\u001b[32mw:\\Playground\\nextjs\\nextjs-ecommerce-app\\.venv\\Lib\\site-packages\\pymongo\\_csot.py:125\u001b[39m, in \u001b[36mapply.<locals>.csot_wrapper\u001b[39m\u001b[34m(self, *args, **kwargs)\u001b[39m\n\u001b[32m    123\u001b[39m         \u001b[38;5;28;01mwith\u001b[39;00m _TimeoutContext(timeout):\n\u001b[32m    124\u001b[39m             \u001b[38;5;28;01mreturn\u001b[39;00m func(\u001b[38;5;28mself\u001b[39m, *args, **kwargs)\n\u001b[32m--> \u001b[39m\u001b[32m125\u001b[39m \u001b[38;5;28;01mreturn\u001b[39;00m \u001b[43mfunc\u001b[49m\u001b[43m(\u001b[49m\u001b[38;5;28;43mself\u001b[39;49m\u001b[43m,\u001b[49m\u001b[43m \u001b[49m\u001b[43m*\u001b[49m\u001b[43margs\u001b[49m\u001b[43m,\u001b[49m\u001b[43m \u001b[49m\u001b[43m*\u001b[49m\u001b[43m*\u001b[49m\u001b[43mkwargs\u001b[49m\u001b[43m)\u001b[49m\n",
      "\u001b[36mFile \u001b[39m\u001b[32mw:\\Playground\\nextjs\\nextjs-ecommerce-app\\.venv\\Lib\\site-packages\\pymongo\\synchronous\\mongo_client.py:2014\u001b[39m, in \u001b[36mMongoClient._retry_internal\u001b[39m\u001b[34m(self, func, session, bulk, operation, is_read, address, read_pref, retryable, operation_id)\u001b[39m\n\u001b[32m   1977\u001b[39m \u001b[38;5;129m@_csot\u001b[39m.apply\n\u001b[32m   1978\u001b[39m \u001b[38;5;28;01mdef\u001b[39;00m\u001b[38;5;250m \u001b[39m\u001b[34m_retry_internal\u001b[39m(\n\u001b[32m   1979\u001b[39m     \u001b[38;5;28mself\u001b[39m,\n\u001b[32m   (...)\u001b[39m\u001b[32m   1988\u001b[39m     operation_id: Optional[\u001b[38;5;28mint\u001b[39m] = \u001b[38;5;28;01mNone\u001b[39;00m,\n\u001b[32m   1989\u001b[39m ) -> T:\n\u001b[32m   1990\u001b[39m \u001b[38;5;250m    \u001b[39m\u001b[33;03m\"\"\"Internal retryable helper for all client transactions.\u001b[39;00m\n\u001b[32m   1991\u001b[39m \n\u001b[32m   1992\u001b[39m \u001b[33;03m    :param func: Callback function we want to retry\u001b[39;00m\n\u001b[32m   (...)\u001b[39m\u001b[32m   2001\u001b[39m \u001b[33;03m    :return: Output of the calling func()\u001b[39;00m\n\u001b[32m   2002\u001b[39m \u001b[33;03m    \"\"\"\u001b[39;00m\n\u001b[32m   2003\u001b[39m     \u001b[38;5;28;01mreturn\u001b[39;00m \u001b[43m_ClientConnectionRetryable\u001b[49m\u001b[43m(\u001b[49m\n\u001b[32m   2004\u001b[39m \u001b[43m        \u001b[49m\u001b[43mmongo_client\u001b[49m\u001b[43m=\u001b[49m\u001b[38;5;28;43mself\u001b[39;49m\u001b[43m,\u001b[49m\n\u001b[32m   2005\u001b[39m \u001b[43m        \u001b[49m\u001b[43mfunc\u001b[49m\u001b[43m=\u001b[49m\u001b[43mfunc\u001b[49m\u001b[43m,\u001b[49m\n\u001b[32m   2006\u001b[39m \u001b[43m        \u001b[49m\u001b[43mbulk\u001b[49m\u001b[43m=\u001b[49m\u001b[43mbulk\u001b[49m\u001b[43m,\u001b[49m\n\u001b[32m   2007\u001b[39m \u001b[43m        \u001b[49m\u001b[43moperation\u001b[49m\u001b[43m=\u001b[49m\u001b[43moperation\u001b[49m\u001b[43m,\u001b[49m\n\u001b[32m   2008\u001b[39m \u001b[43m        \u001b[49m\u001b[43mis_read\u001b[49m\u001b[43m=\u001b[49m\u001b[43mis_read\u001b[49m\u001b[43m,\u001b[49m\n\u001b[32m   2009\u001b[39m \u001b[43m        \u001b[49m\u001b[43msession\u001b[49m\u001b[43m=\u001b[49m\u001b[43msession\u001b[49m\u001b[43m,\u001b[49m\n\u001b[32m   2010\u001b[39m \u001b[43m        \u001b[49m\u001b[43mread_pref\u001b[49m\u001b[43m=\u001b[49m\u001b[43mread_pref\u001b[49m\u001b[43m,\u001b[49m\n\u001b[32m   2011\u001b[39m \u001b[43m        \u001b[49m\u001b[43maddress\u001b[49m\u001b[43m=\u001b[49m\u001b[43maddress\u001b[49m\u001b[43m,\u001b[49m\n\u001b[32m   2012\u001b[39m \u001b[43m        \u001b[49m\u001b[43mretryable\u001b[49m\u001b[43m=\u001b[49m\u001b[43mretryable\u001b[49m\u001b[43m,\u001b[49m\n\u001b[32m   2013\u001b[39m \u001b[43m        \u001b[49m\u001b[43moperation_id\u001b[49m\u001b[43m=\u001b[49m\u001b[43moperation_id\u001b[49m\u001b[43m,\u001b[49m\n\u001b[32m-> \u001b[39m\u001b[32m2014\u001b[39m \u001b[43m    \u001b[49m\u001b[43m)\u001b[49m\u001b[43m.\u001b[49m\u001b[43mrun\u001b[49m\u001b[43m(\u001b[49m\u001b[43m)\u001b[49m\n",
      "\u001b[36mFile \u001b[39m\u001b[32mw:\\Playground\\nextjs\\nextjs-ecommerce-app\\.venv\\Lib\\site-packages\\pymongo\\synchronous\\mongo_client.py:2765\u001b[39m, in \u001b[36m_ClientConnectionRetryable.run\u001b[39m\u001b[34m(self)\u001b[39m\n\u001b[32m   2763\u001b[39m \u001b[38;5;28mself\u001b[39m._check_last_error(check_csot=\u001b[38;5;28;01mTrue\u001b[39;00m)\n\u001b[32m   2764\u001b[39m \u001b[38;5;28;01mtry\u001b[39;00m:\n\u001b[32m-> \u001b[39m\u001b[32m2765\u001b[39m     \u001b[38;5;28;01mreturn\u001b[39;00m \u001b[38;5;28;43mself\u001b[39;49m\u001b[43m.\u001b[49m\u001b[43m_read\u001b[49m\u001b[43m(\u001b[49m\u001b[43m)\u001b[49m \u001b[38;5;28;01mif\u001b[39;00m \u001b[38;5;28mself\u001b[39m._is_read \u001b[38;5;28;01melse\u001b[39;00m \u001b[38;5;28mself\u001b[39m._write()\n\u001b[32m   2766\u001b[39m \u001b[38;5;28;01mexcept\u001b[39;00m ServerSelectionTimeoutError:\n\u001b[32m   2767\u001b[39m     \u001b[38;5;66;03m# The application may think the write was never attempted\u001b[39;00m\n\u001b[32m   2768\u001b[39m     \u001b[38;5;66;03m# if we raise ServerSelectionTimeoutError on the retry\u001b[39;00m\n\u001b[32m   2769\u001b[39m     \u001b[38;5;66;03m# attempt. Raise the original exception instead.\u001b[39;00m\n\u001b[32m   2770\u001b[39m     \u001b[38;5;28mself\u001b[39m._check_last_error()\n",
      "\u001b[36mFile \u001b[39m\u001b[32mw:\\Playground\\nextjs\\nextjs-ecommerce-app\\.venv\\Lib\\site-packages\\pymongo\\synchronous\\mongo_client.py:2926\u001b[39m, in \u001b[36m_ClientConnectionRetryable._read\u001b[39m\u001b[34m(self)\u001b[39m\n\u001b[32m   2918\u001b[39m \u001b[38;5;28;01mif\u001b[39;00m \u001b[38;5;28mself\u001b[39m._retrying:\n\u001b[32m   2919\u001b[39m     _debug_log(\n\u001b[32m   2920\u001b[39m         _COMMAND_LOGGER,\n\u001b[32m   2921\u001b[39m         message=\u001b[33mf\u001b[39m\u001b[33m\"\u001b[39m\u001b[33mRetrying read attempt number \u001b[39m\u001b[38;5;132;01m{\u001b[39;00m\u001b[38;5;28mself\u001b[39m._attempt_number\u001b[38;5;132;01m}\u001b[39;00m\u001b[33m\"\u001b[39m,\n\u001b[32m   (...)\u001b[39m\u001b[32m   2924\u001b[39m         operationId=\u001b[38;5;28mself\u001b[39m._operation_id,\n\u001b[32m   2925\u001b[39m     )\n\u001b[32m-> \u001b[39m\u001b[32m2926\u001b[39m \u001b[38;5;28;01mreturn\u001b[39;00m \u001b[38;5;28;43mself\u001b[39;49m\u001b[43m.\u001b[49m\u001b[43m_func\u001b[49m\u001b[43m(\u001b[49m\u001b[38;5;28;43mself\u001b[39;49m\u001b[43m.\u001b[49m\u001b[43m_session\u001b[49m\u001b[43m,\u001b[49m\u001b[43m \u001b[49m\u001b[38;5;28;43mself\u001b[39;49m\u001b[43m.\u001b[49m\u001b[43m_server\u001b[49m\u001b[43m,\u001b[49m\u001b[43m \u001b[49m\u001b[43mconn\u001b[49m\u001b[43m,\u001b[49m\u001b[43m \u001b[49m\u001b[43mread_pref\u001b[49m\u001b[43m)\u001b[49m\n",
      "\u001b[36mFile \u001b[39m\u001b[32mw:\\Playground\\nextjs\\nextjs-ecommerce-app\\.venv\\Lib\\site-packages\\pymongo\\synchronous\\mongo_client.py:1929\u001b[39m, in \u001b[36mMongoClient._run_operation.<locals>._cmd\u001b[39m\u001b[34m(_session, server, conn, read_preference)\u001b[39m\n\u001b[32m   1922\u001b[39m \u001b[38;5;28;01mdef\u001b[39;00m\u001b[38;5;250m \u001b[39m\u001b[34m_cmd\u001b[39m(\n\u001b[32m   1923\u001b[39m     _session: Optional[ClientSession],\n\u001b[32m   1924\u001b[39m     server: Server,\n\u001b[32m   1925\u001b[39m     conn: Connection,\n\u001b[32m   1926\u001b[39m     read_preference: _ServerMode,\n\u001b[32m   1927\u001b[39m ) -> Response:\n\u001b[32m   1928\u001b[39m     operation.reset()  \u001b[38;5;66;03m# Reset op in case of retry.\u001b[39;00m\n\u001b[32m-> \u001b[39m\u001b[32m1929\u001b[39m     \u001b[38;5;28;01mreturn\u001b[39;00m \u001b[43mserver\u001b[49m\u001b[43m.\u001b[49m\u001b[43mrun_operation\u001b[49m\u001b[43m(\u001b[49m\n\u001b[32m   1930\u001b[39m \u001b[43m        \u001b[49m\u001b[43mconn\u001b[49m\u001b[43m,\u001b[49m\n\u001b[32m   1931\u001b[39m \u001b[43m        \u001b[49m\u001b[43moperation\u001b[49m\u001b[43m,\u001b[49m\n\u001b[32m   1932\u001b[39m \u001b[43m        \u001b[49m\u001b[43mread_preference\u001b[49m\u001b[43m,\u001b[49m\n\u001b[32m   1933\u001b[39m \u001b[43m        \u001b[49m\u001b[38;5;28;43mself\u001b[39;49m\u001b[43m.\u001b[49m\u001b[43m_event_listeners\u001b[49m\u001b[43m,\u001b[49m\n\u001b[32m   1934\u001b[39m \u001b[43m        \u001b[49m\u001b[43munpack_res\u001b[49m\u001b[43m,\u001b[49m\n\u001b[32m   1935\u001b[39m \u001b[43m        \u001b[49m\u001b[38;5;28;43mself\u001b[39;49m\u001b[43m,\u001b[49m\n\u001b[32m   1936\u001b[39m \u001b[43m    \u001b[49m\u001b[43m)\u001b[49m\n",
      "\u001b[36mFile \u001b[39m\u001b[32mw:\\Playground\\nextjs\\nextjs-ecommerce-app\\.venv\\Lib\\site-packages\\pymongo\\synchronous\\helpers.py:47\u001b[39m, in \u001b[36m_handle_reauth.<locals>.inner\u001b[39m\u001b[34m(*args, **kwargs)\u001b[39m\n\u001b[32m     44\u001b[39m \u001b[38;5;28;01mfrom\u001b[39;00m\u001b[38;5;250m \u001b[39m\u001b[34;01mpymongo\u001b[39;00m\u001b[34;01m.\u001b[39;00m\u001b[34;01msynchronous\u001b[39;00m\u001b[34;01m.\u001b[39;00m\u001b[34;01mpool\u001b[39;00m\u001b[38;5;250m \u001b[39m\u001b[38;5;28;01mimport\u001b[39;00m Connection\n\u001b[32m     46\u001b[39m \u001b[38;5;28;01mtry\u001b[39;00m:\n\u001b[32m---> \u001b[39m\u001b[32m47\u001b[39m     \u001b[38;5;28;01mreturn\u001b[39;00m \u001b[43mfunc\u001b[49m\u001b[43m(\u001b[49m\u001b[43m*\u001b[49m\u001b[43margs\u001b[49m\u001b[43m,\u001b[49m\u001b[43m \u001b[49m\u001b[43m*\u001b[49m\u001b[43m*\u001b[49m\u001b[43mkwargs\u001b[49m\u001b[43m)\u001b[49m\n\u001b[32m     48\u001b[39m \u001b[38;5;28;01mexcept\u001b[39;00m OperationFailure \u001b[38;5;28;01mas\u001b[39;00m exc:\n\u001b[32m     49\u001b[39m     \u001b[38;5;28;01mif\u001b[39;00m no_reauth:\n",
      "\u001b[36mFile \u001b[39m\u001b[32mw:\\Playground\\nextjs\\nextjs-ecommerce-app\\.venv\\Lib\\site-packages\\pymongo\\synchronous\\server.py:170\u001b[39m, in \u001b[36mServer.run_operation\u001b[39m\u001b[34m(self, conn, operation, read_preference, listeners, unpack_res, client)\u001b[39m\n\u001b[32m    168\u001b[39m     request_id = \u001b[32m0\u001b[39m\n\u001b[32m    169\u001b[39m \u001b[38;5;28;01melse\u001b[39;00m:\n\u001b[32m--> \u001b[39m\u001b[32m170\u001b[39m     message = \u001b[43moperation\u001b[49m\u001b[43m.\u001b[49m\u001b[43mget_message\u001b[49m\u001b[43m(\u001b[49m\u001b[43mread_preference\u001b[49m\u001b[43m,\u001b[49m\u001b[43m \u001b[49m\u001b[43mconn\u001b[49m\u001b[43m,\u001b[49m\u001b[43m \u001b[49m\u001b[43muse_cmd\u001b[49m\u001b[43m)\u001b[49m\n\u001b[32m    171\u001b[39m     request_id, data, max_doc_size = \u001b[38;5;28mself\u001b[39m._split_message(message)\n\u001b[32m    173\u001b[39m \u001b[38;5;28;01mif\u001b[39;00m _COMMAND_LOGGER.isEnabledFor(logging.DEBUG):\n",
      "\u001b[36mFile \u001b[39m\u001b[32mw:\\Playground\\nextjs\\nextjs-ecommerce-app\\.venv\\Lib\\site-packages\\pymongo\\message.py:1697\u001b[39m, in \u001b[36m_Query.get_message\u001b[39m\u001b[34m(self, read_preference, conn, use_cmd)\u001b[39m\n\u001b[32m   1695\u001b[39m \u001b[38;5;28;01mif\u001b[39;00m use_cmd:\n\u001b[32m   1696\u001b[39m     spec = \u001b[38;5;28mself\u001b[39m.as_command(conn)[\u001b[32m0\u001b[39m]\n\u001b[32m-> \u001b[39m\u001b[32m1697\u001b[39m     request_id, msg, size, _ = \u001b[43m_op_msg\u001b[49m\u001b[43m(\u001b[49m\n\u001b[32m   1698\u001b[39m \u001b[43m        \u001b[49m\u001b[32;43m0\u001b[39;49m\u001b[43m,\u001b[49m\n\u001b[32m   1699\u001b[39m \u001b[43m        \u001b[49m\u001b[43mspec\u001b[49m\u001b[43m,\u001b[49m\n\u001b[32m   1700\u001b[39m \u001b[43m        \u001b[49m\u001b[38;5;28;43mself\u001b[39;49m\u001b[43m.\u001b[49m\u001b[43mdb\u001b[49m\u001b[43m,\u001b[49m\n\u001b[32m   1701\u001b[39m \u001b[43m        \u001b[49m\u001b[43mread_preference\u001b[49m\u001b[43m,\u001b[49m\n\u001b[32m   1702\u001b[39m \u001b[43m        \u001b[49m\u001b[38;5;28;43mself\u001b[39;49m\u001b[43m.\u001b[49m\u001b[43mcodec_options\u001b[49m\u001b[43m,\u001b[49m\n\u001b[32m   1703\u001b[39m \u001b[43m        \u001b[49m\u001b[43mctx\u001b[49m\u001b[43m=\u001b[49m\u001b[43mconn\u001b[49m\u001b[43m.\u001b[49m\u001b[43mcompression_context\u001b[49m\u001b[43m,\u001b[49m\n\u001b[32m   1704\u001b[39m \u001b[43m    \u001b[49m\u001b[43m)\u001b[49m\n\u001b[32m   1705\u001b[39m     \u001b[38;5;28;01mreturn\u001b[39;00m request_id, msg, size\n\u001b[32m   1707\u001b[39m \u001b[38;5;66;03m# OP_QUERY treats ntoreturn of -1 and 1 the same, return\u001b[39;00m\n\u001b[32m   1708\u001b[39m \u001b[38;5;66;03m# one document and close the cursor. We have to use 2 for\u001b[39;00m\n\u001b[32m   1709\u001b[39m \u001b[38;5;66;03m# batch size if 1 is specified.\u001b[39;00m\n",
      "\u001b[36mFile \u001b[39m\u001b[32mw:\\Playground\\nextjs\\nextjs-ecommerce-app\\.venv\\Lib\\site-packages\\pymongo\\message.py:419\u001b[39m, in \u001b[36m_op_msg\u001b[39m\u001b[34m(flags, command, dbname, read_preference, opts, ctx)\u001b[39m\n\u001b[32m    417\u001b[39m     \u001b[38;5;28;01mif\u001b[39;00m ctx:\n\u001b[32m    418\u001b[39m         \u001b[38;5;28;01mreturn\u001b[39;00m _op_msg_compressed(flags, command, identifier, docs, opts, ctx)\n\u001b[32m--> \u001b[39m\u001b[32m419\u001b[39m     \u001b[38;5;28;01mreturn\u001b[39;00m \u001b[43m_op_msg_uncompressed\u001b[49m\u001b[43m(\u001b[49m\u001b[43mflags\u001b[49m\u001b[43m,\u001b[49m\u001b[43m \u001b[49m\u001b[43mcommand\u001b[49m\u001b[43m,\u001b[49m\u001b[43m \u001b[49m\u001b[43midentifier\u001b[49m\u001b[43m,\u001b[49m\u001b[43m \u001b[49m\u001b[43mdocs\u001b[49m\u001b[43m,\u001b[49m\u001b[43m \u001b[49m\u001b[43mopts\u001b[49m\u001b[43m)\u001b[49m\n\u001b[32m    420\u001b[39m \u001b[38;5;28;01mfinally\u001b[39;00m:\n\u001b[32m    421\u001b[39m     \u001b[38;5;66;03m# Add the field back to the command.\u001b[39;00m\n\u001b[32m    422\u001b[39m     \u001b[38;5;28;01mif\u001b[39;00m identifier:\n",
      "\u001b[31mInvalidDocument\u001b[39m: Invalid document {'find': 'products', 'filter': {<built-in function id>: '123'}, 'lsid': {'id': Binary(b'\\x12\\xc0j+\\xa8\\x8bM\\x90\\xac\\xceT\\x17\\xd5\\xe2\\x1a\\x8f', 4)}, '$clusterTime': {'clusterTime': Timestamp(1757878880, 4), 'signature': {'hash': b'\\xf0g{m-]\\x8a\\xcdC\\x7f.\\xc5i\\xf4h\\xaa\\xc3\\xdd\\x1a\\xa9', 'keyId': 7486577435190755331}}, '$db': 'demo'} | documents must have only string keys, key was <built-in function id>"
     ]
    }
   ],
   "source": [
    "for x in collection.find({}):\n",
    "    print(x)\n",
    "\n"
   ]
  },
  {
   "cell_type": "code",
   "execution_count": 7,
   "id": "92fdd919",
   "metadata": {},
   "outputs": [],
   "source": [
    "collection = db[\"products\"]"
   ]
  },
  {
   "cell_type": "code",
   "execution_count": null,
   "id": "e72c22ac",
   "metadata": {},
   "outputs": [
    {
     "data": {
      "text/plain": [
       "InsertManyResult([ObjectId('68c2d59ee2f5939594773f82'), ObjectId('68c2d59ee2f5939594773f83'), ObjectId('68c2d59ee2f5939594773f84'), ObjectId('68c2d59ee2f5939594773f85')], acknowledged=True)"
      ]
     },
     "execution_count": 10,
     "metadata": {},
     "output_type": "execute_result"
    }
   ],
   "source": [
    "collection.insert_many([{\n",
    "  \"id\": \"123\",\n",
    "  \"name\": \"Hat\",\n",
    "  \"imageUrl\": \"hat.jpg\",\n",
    "  \"description\": \"Cheer the team on in style with our unstructured, low crown, six-panel baseball cap made of 100% organic cotton twill. Featuring our original Big Star Collectibles artwork, screen-printed with PVC- and phthalate-free inks. Complete with matching sewn ventilation eyelets, and adjustable fabric closure.\",\n",
    "  \"price\": 29\n",
    "}, {\n",
    "  \"id\": \"234\",\n",
    "  \"name\": \"Mug\",\n",
    "  \"imageUrl\": \"mug.jpg\",\n",
    "  \"description\": \"Enjoy your morning coffee or tea in the company of your favorite Big Star Collectible character. Our strong ceramic mug, with its comfortable D-shaped handle, is microwave and dishwasher safe, and available in one size': 11 oz (3.2 diameter x 3.8 h).\",\n",
    "  \"price\": 16\n",
    "}, {\n",
    "  \"id\": \"345\",\n",
    "  \"name\": \"Shirt\",\n",
    "  \"imageUrl\": \"shirt.jpg\",\n",
    "  \"description\": \"Our t-shirts are made from ring-spun, long-staple organic cotton that's ethically sourced from member farms of local organic cotton cooperatives. Original artwork is screen-printed using PVC- and phthalate-free inks. Features crew-neck styling, shoulder-to-shoulder taping, and a buttery soft feel. Machine-wash warm, tumble-dry low.\",\n",
    "  \"price\": 26\n",
    "}, {\n",
    "  \"id\": \"456\",\n",
    "  \"name\": \"Apron\",\n",
    "  \"imageUrl\": \"apron.jpg\",\n",
    "  \"description\": \"Everyone's a chef in our eco-friendly apron made from 55% organic cotton and 45% recycled polyester. Showcasing your favorite Big Star Collectibles design, the apron is screen-printed in PVC- and phthalate-free inks. Apron measures 24 inches wide by 30 inches long and is easily adjustable around the neck and waist with one continuous strap. Machine-wash warm, tumble-dry low.\",\n",
    "  \"price\": 24\n",
    "}])\n"
   ]
  },
  {
   "cell_type": "code",
   "execution_count": 3,
   "id": "40b5fea2",
   "metadata": {},
   "outputs": [
    {
     "data": {
      "text/plain": [
       "InsertManyResult([ObjectId('68c2f54ece3e933b628a382f')], acknowledged=True)"
      ]
     },
     "execution_count": 3,
     "metadata": {},
     "output_type": "execute_result"
    }
   ],
   "source": [
    "collection = db[\"carts\"]\n",
    "collection.insert_many([{\n",
    "    '1': ['123','234'],\n",
    "    '2': ['345','456'],\n",
    "    '3': ['234'],\n",
    "}])"
   ]
  },
  {
   "cell_type": "code",
   "execution_count": 6,
   "id": "9a12b32a",
   "metadata": {},
   "outputs": [
    {
     "name": "stdout",
     "output_type": "stream",
     "text": [
      "{'_id': ObjectId('68c2f54ece3e933b628a382f'), '1': ['123', '234'], '2': ['345', '456'], '3': ['234']}\n"
     ]
    }
   ],
   "source": [
    "for x in collection.find():\n",
    "    print(x)"
   ]
  }
 ],
 "metadata": {
  "kernelspec": {
   "display_name": ".venv",
   "language": "python",
   "name": "python3"
  },
  "language_info": {
   "codemirror_mode": {
    "name": "ipython",
    "version": 3
   },
   "file_extension": ".py",
   "mimetype": "text/x-python",
   "name": "python",
   "nbconvert_exporter": "python",
   "pygments_lexer": "ipython3",
   "version": "3.13.7"
  }
 },
 "nbformat": 4,
 "nbformat_minor": 5
}
